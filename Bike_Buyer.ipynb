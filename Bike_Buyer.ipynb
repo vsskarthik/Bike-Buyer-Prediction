{
 "cells": [
  {
   "cell_type": "code",
   "execution_count": 1,
   "metadata": {},
   "outputs": [
    {
     "name": "stderr",
     "output_type": "stream",
     "text": [
      "/opt/conda/envs/DSX-Python35/lib/python3.5/site-packages/sklearn/preprocessing/label.py:111: DataConversionWarning: A column-vector y was passed when a 1d array was expected. Please change the shape of y to (n_samples, ), for example using ravel().\n",
      "  y = column_or_1d(y, warn=True)\n",
      "/opt/conda/envs/DSX-Python35/lib/python3.5/site-packages/ipykernel/__main__.py:60: DataConversionWarning: A column-vector y was passed when a 1d array was expected. Please change the shape of y to (n_samples,), for example using ravel().\n"
     ]
    },
    {
     "data": {
      "text/plain": [
       "RandomForestClassifier(bootstrap=True, class_weight=None, criterion='gini',\n",
       "            max_depth=None, max_features='auto', max_leaf_nodes=None,\n",
       "            min_impurity_decrease=0.0, min_impurity_split=None,\n",
       "            min_samples_leaf=1, min_samples_split=2,\n",
       "            min_weight_fraction_leaf=0.0, n_estimators=10, n_jobs=1,\n",
       "            oob_score=False, random_state=0, verbose=0, warm_start=False)"
      ]
     },
     "execution_count": 1,
     "metadata": {},
     "output_type": "execute_result"
    }
   ],
   "source": [
    "import numpy as np\n",
    "import types\n",
    "import pandas as pd\n",
    "import types\n",
    "from botocore.client import Config\n",
    "import ibm_boto3\n",
    "\n",
    "def __iter__(self): return 0\n",
    "\n",
    "# @hidden_cell\n",
    "# The following code accesses a file in your IBM Cloud Object Storage. It includes your credentials.\n",
    "# You might want to remove those credentials before you share your notebook.\n",
    "client_4d38ea6703f6412e99fb999ad9c2d4dd = ibm_boto3.client(service_name='s3',\n",
    "    ibm_api_key_id='oU6vGo7dyTAmmt0flLMKoLNrm8Hsp1mfuKUEqOE4NWtr',\n",
    "    ibm_auth_endpoint=\"https://iam.bluemix.net/oidc/token\",\n",
    "    config=Config(signature_version='oauth'),\n",
    "    endpoint_url='https://s3.eu-geo.objectstorage.service.networklayer.com')\n",
    "\n",
    "body = client_4d38ea6703f6412e99fb999ad9c2d4dd.get_object(Bucket='fast-donotdelete-pr-npu2nnnjspus3r',Key='bikebuyer.csv')['Body']\n",
    "# add missing __iter__ method, so pandas accepts body as file-like object\n",
    "if not hasattr(body, \"__iter__\"): body.__iter__ = types.MethodType( __iter__, body )\n",
    "\n",
    "ds= pd.read_csv(body)\n",
    "ds.head()\n",
    "\n",
    "#Encoding required *(er)\n",
    "er=ds[['Marital_Status', 'Gender','Education','Occupation','Home_Owner','Region']].values\n",
    "col=[['Marital_Status'], ['Gender'],['Education'],['Occupation'],['Home_Owner'],['Region']]\n",
    "xc=ds[['Yearly_Income','Children','Cars','Commute_Distance','Age']]\n",
    "from sklearn.preprocessing import LabelEncoder,OneHotEncoder\n",
    "le=LabelEncoder()\n",
    "#Creating a Label Encoded dataframe \n",
    "temp1=pd.DataFrame(le.fit_transform(er[:,0]),columns=col[0])\n",
    "temp2=pd.DataFrame(le.fit_transform(er[:,1]),columns=col[1])\n",
    "temp3=pd.DataFrame(le.fit_transform(er[:,2]),columns=col[2])\n",
    "temp4=pd.DataFrame(le.fit_transform(er[:,3]),columns=col[3])\n",
    "temp5=pd.DataFrame(le.fit_transform(er[:,4]),columns=col[4])\n",
    "temp6=pd.DataFrame(le.fit_transform(er[:,5]),columns=col[5])\n",
    "\n",
    "temp=pd.concat([temp1,temp2],axis=1)\n",
    "temp=pd.concat([temp,temp3],axis=1)\n",
    "temp=pd.concat([temp,temp4],axis=1)\n",
    "temp=pd.concat([temp,temp5],axis=1)\n",
    "temp=pd.concat([temp,temp6],axis=1)\n",
    "#------------------------------------------------------------------------------\n",
    "x=pd.concat([xc,temp],axis=1)\n",
    "x=x.dropna()\n",
    "h=pd.DataFrame(x)\n",
    "#ohe=OneHotEncoder(categorical_features=[6])\n",
    "#h=ohe.fit_transform(h).toarray()\n",
    "y=ds[['Bike_Buyer']]\n",
    "y=pd.DataFrame(le.fit_transform(y),columns=['Bike_Buyer'])\n",
    "y=y.drop([4551],axis=0)\n",
    "#------------------------------------------------------------------------------\n",
    "from sklearn.model_selection import train_test_split\n",
    "x_train,x_test,y_train,y_test=train_test_split(h,y,test_size=0.1,random_state=100)\n",
    "#------------------------------------------------------------------------------\n",
    "from sklearn.ensemble import RandomForestClassifier\n",
    "classifier=RandomForestClassifier(random_state=0)\n",
    "classifier.fit(x_train,y_train)"
   ]
  },
  {
   "cell_type": "code",
   "execution_count": 28,
   "metadata": {},
   "outputs": [],
   "source": [
    "from watson_machine_learning_client import WatsonMachineLearningAPIClient\n",
    "wml_credentials={\n",
    "    \"url\": \"https://eu-gb.ml.cloud.ibm.com\",\n",
    "    \"apikey\": \"xY05RShcE5IhIu9YgoP7xCAMXUJpK9OO7_AMOWa1GB-N\",\n",
    "    \"username\": \"efd0063a-e53b-407f-934b-4643181bc7d3\",\n",
    "    \"instance_id\": \"cd5063b7-4486-4586-a824-4d2256fb41f6\",\n",
    "    \"password\": \"b0fe65fe-7324-4375-bca0-8ff7b311deb7\",\n",
    "}"
   ]
  },
  {
   "cell_type": "code",
   "execution_count": 18,
   "metadata": {
    "scrolled": true
   },
   "outputs": [
    {
     "name": "stdout",
     "output_type": "stream",
     "text": [
      "\n",
      "\n",
      "#######################################################################################\n",
      "\n",
      "Synchronous deployment creation for uid: '2631b7a9-67c7-492e-9b9a-c64838a163cd' started\n",
      "\n",
      "#######################################################################################\n",
      "\n",
      "\n",
      "INITIALIZING\n",
      "DEPLOY_SUCCESS\n",
      "\n",
      "\n",
      "------------------------------------------------------------------------------------------------\n",
      "Successfully finished deployment creation, deployment_uid='623d1095-5ba8-4df4-9e4d-3e44a506fdc8'\n",
      "------------------------------------------------------------------------------------------------\n",
      "\n",
      "\n"
     ]
    }
   ],
   "source": [
    "client=WatsonMachineLearningAPIClient(wml_credentials)\n",
    "model_props={client.repository.ModelMetaNames.AUTHOR_NAME:\"Karthik\",\n",
    "             client.repository.ModelMetaNames.AUTHOR_EMAIL:\"vsskarthik8@gmail.com\",\n",
    "             client.repository.ModelMetaNames.NAME:\"Bike_Prediction\"}\n",
    "model_artifact=client.repository.store_model(classifier,meta_props=model_props)\n",
    "\n",
    "\n",
    "published_model_uid=client.repository.get_model_uid(model_artifact)\n",
    "published_model_uid\n",
    "deploy=client.deployments.create(published_model_uid,name=\"Bike_Buyer\")"
   ]
  },
  {
   "cell_type": "code",
   "execution_count": 19,
   "metadata": {},
   "outputs": [],
   "source": [
    "scoring_endpoint=client.deployments.get_scoring_url(deploy)"
   ]
  },
  {
   "cell_type": "code",
   "execution_count": 20,
   "metadata": {},
   "outputs": [
    {
     "data": {
      "text/plain": [
       "'https://eu-gb.ml.cloud.ibm.com/v3/wml_instances/cd5063b7-4486-4586-a824-4d2256fb41f6/deployments/623d1095-5ba8-4df4-9e4d-3e44a506fdc8/online'"
      ]
     },
     "execution_count": 20,
     "metadata": {},
     "output_type": "execute_result"
    }
   ],
   "source": [
    "scoring_endpoint"
   ]
  }
 ],
 "metadata": {
  "kernelspec": {
   "display_name": "Python 3.5",
   "language": "python",
   "name": "python3"
  },
  "language_info": {
   "codemirror_mode": {
    "name": "ipython",
    "version": 3
   },
   "file_extension": ".py",
   "mimetype": "text/x-python",
   "name": "python",
   "nbconvert_exporter": "python",
   "pygments_lexer": "ipython3",
   "version": "3.5.5"
  }
 },
 "nbformat": 4,
 "nbformat_minor": 1
}
